{
 "cells": [
  {
   "cell_type": "code",
   "execution_count": 2,
   "metadata": {},
   "outputs": [],
   "source": [
    "from dotenv import load_dotenv\n",
    "import os\n",
    "\n",
    "load_dotenv()\n",
    "\n",
    "OPENAI_API_KEY = os.getenv(\"OPENAI_API_KEY\")"
   ]
  },
  {
   "cell_type": "code",
   "execution_count": 4,
   "metadata": {},
   "outputs": [],
   "source": [
    "url = 'https://en.wikipedia.org/wiki/2024_Summer_Olympics_medal_table'"
   ]
  },
  {
   "cell_type": "code",
   "execution_count": 5,
   "metadata": {},
   "outputs": [
    {
     "name": "stderr",
     "output_type": "stream",
     "text": [
      "Fetching pages: 100%|##########| 1/1 [00:00<00:00,  1.12it/s]\n"
     ]
    }
   ],
   "source": [
    "from langchain_community.document_loaders import AsyncHtmlLoader\n",
    "from bs4 import BeautifulSoup\n",
    "\n",
    "loader = AsyncHtmlLoader([url])\n",
    "docs = loader.load()\n",
    "raw_html = docs[0].page_content\n",
    "\n",
    "# Criar o objeto BeautifulSoup\n",
    "soup = BeautifulSoup(raw_html, 'html.parser')\n",
    "\n",
    "# Buscar pela tag <table> com a classe específica\n",
    "table = soup.find('table', class_='wikitable sortable notheme plainrowheaders jquery-tablesorter')"
   ]
  },
  {
   "cell_type": "code",
   "execution_count": 6,
   "metadata": {},
   "outputs": [],
   "source": [
    "from langchain_core.prompts import ChatPromptTemplate\n",
    "from langchain_openai import ChatOpenAI\n",
    "from langchain_core.output_parsers import StrOutputParser\n",
    "\n",
    "messages = [\n",
    "    (\"system\", \"Transforme em uma table markdown:\"),\n",
    "    (\"human\", \"{table}\")\n",
    "]\n",
    "prompt = ChatPromptTemplate.from_messages(messages)\n",
    "\n",
    "# <LLM model>\n",
    "llm = ChatOpenAI(api_key=OPENAI_API_KEY, temperature=0, model='gpt-4o-mini-2024-07-18')\n",
    "\n",
    "chain = prompt | llm | StrOutputParser()"
   ]
  },
  {
   "cell_type": "code",
   "execution_count": 8,
   "metadata": {},
   "outputs": [],
   "source": [
    "final_table = chain.invoke({\"table\": table})"
   ]
  },
  {
   "cell_type": "code",
   "execution_count": 9,
   "metadata": {},
   "outputs": [
    {
     "name": "stdout",
     "output_type": "stream",
     "text": [
      "```markdown\n",
      "| Rank | NOC       | Gold | Silver | Bronze | Total |\n",
      "|------|-----------|------|--------|--------|-------|\n",
      "| 1    | China     | 11   | 7      | 6      | 24    |\n",
      "| 2    | United States | 9    | 15     | 13     | 37    |\n",
      "| 3    | France    | 8    | 11     | 8      | 27    |\n",
      "| 4    | Australia | 8    | 6      | 4      | 18    |\n",
      "| 5    | Japan     | 8    | 3      | 5      | 16    |\n",
      "| 6    | Great Britain | 6    | 7      | 7      | 20    |\n",
      "| 7    | South Korea | 6    | 3      | 3      | 12    |\n",
      "| 8    | Italy     | 5    | 7      | 4      | 16    |\n",
      "| 9    | Canada    | 3    | 2      | 3      | 8     |\n",
      "| 10   | Germany   | 2    | 2      | 2      | 6     |\n",
      "| 10   | Netherlands | 2    | 2      | 2      | 6     |\n",
      "| 12   | New Zealand | 2    | 2      | 1      | 5     |\n",
      "| 13   | Romania   | 2    | 1      | 1      | 4     |\n",
      "| 14   | Hong Kong | 2    | 0      | 2      | 4     |\n",
      "| 15   | Azerbaijan | 2    | 0      | 0      | 2     |\n",
      "| 16   | Hungary   | 1    | 2      | 1      | 4     |\n",
      "| 17   | Georgia   | 1    | 2      | 0      | 3     |\n",
      "| 18   | South Africa | 1    | 1      | 2      | 4     |\n",
      "| 18   | Sweden    | 1    | 1      | 2      | 4     |\n",
      "| 20   | Belgium   | 1    | 0      | 2      | 3     |\n",
      "| 20   | Ireland   | 1    | 0      | 2      | 3     |\n",
      "| 20   | Kazakhstan | 1    | 0      | 2      | 3     |\n",
      "| 23   | Croatia   | 1    | 0      | 1      | 2     |\n",
      "| 23   | Guatemala | 1    | 0      | 1      | 2     |\n",
      "| 23   | Uzbekistan | 1    | 0      | 1      | 2     |\n",
      "| 26   | Argentina | 1    | 0      | 0      | 1     |\n",
      "| 26   | Ecuador   | 1    | 0      | 0      | 1     |\n",
      "| 26   | Serbia    | 1    | 0      | 0      | 1     |\n",
      "| 26   | Slovenia  | 1    | 0      | 0      | 1     |\n",
      "| 30   | Brazil    | 0    | 3      | 3      | 6     |\n",
      "| 31   | North Korea | 0    | 2      | 0      | 2     |\n",
      "| 32   | Spain     | 0    | 1      | 3      | 4     |\n",
      "| 33   | Poland    | 0    | 1      | 2      | 3     |\n",
      "| 33   | Switzerland | 0    | 1      | 2      | 3     |\n",
      "| 35   | Greece    | 0    | 1      | 1      | 2     |\n",
      "| 35   | Israel    | 0    | 1      | 1      | 2     |\n",
      "| 35   | Kosovo    | 0    | 1      | 1      | 2     |\n",
      "| 35   | Mexico    | 0    | 1      | 1      | 2     |\n",
      "| 35   | Turkey    | 0    | 1      | 1      | 2     |\n",
      "| 35   | Ukraine   | 0    | 1      | 1      | 2     |\n",
      "| 41   | Fiji      | 0    | 1      | 0      | 1     |\n",
      "| 41   | Mongolia  | 0    | 1      | 0      | 1     |\n",
      "| 41   | Tunisia   | 0    | 1      | 0      | 1     |\n",
      "| 44   | India     | 0    | 0      | 3      | 3     |\n",
      "| 45   | Moldova   | 0    | 0      | 2      | 2     |\n",
      "| 46   | Austria   | 0    | 0      | 1      | 1     |\n",
      "| 46   | Egypt     | 0    | 0      | 1      | 1     |\n",
      "| 46   | Portugal  | 0    | 0      | 1      | 1     |\n",
      "| 46   | Slovakia  | 0    | 0      | 1      | 1     |\n",
      "| 46   | Tajikistan | 0    | 0      | 1      | 1     |\n",
      "|      | **Totals (50 entries)** | **90** | **91** | **101** | **282** |\n",
      "```\n"
     ]
    }
   ],
   "source": [
    "print(final_table)"
   ]
  },
  {
   "cell_type": "markdown",
   "metadata": {},
   "source": [
    "## Testing API"
   ]
  },
  {
   "cell_type": "code",
   "execution_count": 26,
   "metadata": {},
   "outputs": [],
   "source": [
    "import json"
   ]
  },
  {
   "cell_type": "code",
   "execution_count": 18,
   "metadata": {},
   "outputs": [
    {
     "name": "stdout",
     "output_type": "stream",
     "text": [
      "b'{\"STATUS\":\"OK\"}'\n"
     ]
    }
   ],
   "source": [
    "import requests\n",
    "\n",
    "endpoint = \"http://127.0.0.1:8000/\"\n",
    "\n",
    "response = requests.get(endpoint)\n",
    "\n",
    "if response.status_code == 200:\n",
    "    print(response.content)\n",
    "else:\n",
    "    print(\"Erro ao acessar a API\")"
   ]
  },
  {
   "cell_type": "code",
   "execution_count": 20,
   "metadata": {},
   "outputs": [],
   "source": [
    "response = requests.get(endpoint + 'medal_table')"
   ]
  },
  {
   "cell_type": "code",
   "execution_count": 29,
   "metadata": {},
   "outputs": [
    {
     "name": "stdout",
     "output_type": "stream",
     "text": [
      "```markdown\n",
      "| Rank | NOC       | Gold | Silver | Bronze | Total |\n",
      "|------|-----------|------|--------|--------|-------|\n",
      "| 1    | China     | 11   | 7      | 6      | 24    |\n",
      "| 2    | United States | 9    | 15     | 13     | 37    |\n",
      "| 3    | France    | 8    | 11     | 8      | 27    |\n",
      "| 4    | Australia | 8    | 6      | 4      | 18    |\n",
      "| 5    | Japan     | 8    | 3      | 5      | 16    |\n",
      "| 6    | Great Britain | 6    | 7      | 7      | 20    |\n",
      "| 7    | South Korea | 6    | 3      | 3      | 12    |\n",
      "| 8    | Italy     | 5    | 7      | 4      | 16    |\n",
      "| 9    | Canada    | 3    | 2      | 3      | 8     |\n",
      "| 10   | Germany   | 2    | 2      | 2      | 6     |\n",
      "| 10   | Netherlands | 2    | 2      | 2      | 6     |\n",
      "| 12   | New Zealand | 2    | 2      | 1      | 5     |\n",
      "| 13   | Romania   | 2    | 1      | 1      | 4     |\n",
      "| 14   | Hong Kong | 2    | 0      | 2      | 4     |\n",
      "| 15   | Azerbaijan | 2    | 0      | 0      | 2     |\n",
      "| 16   | Hungary   | 1    | 2      | 1      | 4     |\n",
      "| 17   | Georgia   | 1    | 2      | 0      | 3     |\n",
      "| 18   | South Africa | 1    | 1      | 2      | 4     |\n",
      "| 18   | Sweden    | 1    | 1      | 2      | 4     |\n",
      "| 20   | Belgium   | 1    | 0      | 2      | 3     |\n",
      "| 20   | Ireland   | 1    | 0      | 2      | 3     |\n",
      "| 20   | Kazakhstan | 1    | 0      | 2      | 3     |\n",
      "| 23   | Croatia   | 1    | 0      | 1      | 2     |\n",
      "| 23   | Guatemala | 1    | 0      | 1      | 2     |\n",
      "| 23   | Uzbekistan | 1    | 0      | 1      | 2     |\n",
      "| 26   | Argentina | 1    | 0      | 0      | 1     |\n",
      "| 26   | Ecuador   | 1    | 0      | 0      | 1     |\n",
      "| 26   | Serbia    | 1    | 0      | 0      | 1     |\n",
      "| 26   | Slovenia  | 1    | 0      | 0      | 1     |\n",
      "| 30   | Brazil    | 0    | 3      | 3      | 6     |\n",
      "| 31   | North Korea | 0    | 2      | 0      | 2     |\n",
      "| 32   | Spain     | 0    | 1      | 3      | 4     |\n",
      "| 33   | Poland    | 0    | 1      | 2      | 3     |\n",
      "| 33   | Switzerland | 0    | 1      | 2      | 3     |\n",
      "| 35   | Greece    | 0    | 1      | 1      | 2     |\n",
      "| 35   | Israel    | 0    | 1      | 1      | 2     |\n",
      "| 35   | Kosovo    | 0    | 1      | 1      | 2     |\n",
      "| 35   | Mexico    | 0    | 1      | 1      | 2     |\n",
      "| 35   | Turkey    | 0    | 1      | 1      | 2     |\n",
      "| 35   | Ukraine   | 0    | 1      | 1      | 2     |\n",
      "| 41   | Fiji      | 0    | 1      | 0      | 1     |\n",
      "| 41   | Mongolia  | 0    | 1      | 0      | 1     |\n",
      "| 41   | Tunisia   | 0    | 1      | 0      | 1     |\n",
      "| 44   | India     | 0    | 0      | 3      | 3     |\n",
      "| 45   | Moldova   | 0    | 0      | 2      | 2     |\n",
      "| 46   | Austria   | 0    | 0      | 1      | 1     |\n",
      "| 46   | Egypt     | 0    | 0      | 1      | 1     |\n",
      "| 46   | Portugal  | 0    | 0      | 1      | 1     |\n",
      "| 46   | Slovakia  | 0    | 0      | 1      | 1     |\n",
      "| 46   | Tajikistan | 0    | 0      | 1      | 1     |\n",
      "|      | **Totals (50 entries)** | **90** | **91** | **101** | **282** |\n",
      "```\n"
     ]
    }
   ],
   "source": [
    "if response.status_code == 200:\n",
    "    print(json.loads(response.content)['medal_table'])\n",
    "else:\n",
    "    print(\"Erro ao acessar a API\")"
   ]
  },
  {
   "cell_type": "code",
   "execution_count": null,
   "metadata": {},
   "outputs": [],
   "source": []
  }
 ],
 "metadata": {
  "kernelspec": {
   "display_name": "env",
   "language": "python",
   "name": "python3"
  },
  "language_info": {
   "codemirror_mode": {
    "name": "ipython",
    "version": 3
   },
   "file_extension": ".py",
   "mimetype": "text/x-python",
   "name": "python",
   "nbconvert_exporter": "python",
   "pygments_lexer": "ipython3",
   "version": "3.9.13"
  }
 },
 "nbformat": 4,
 "nbformat_minor": 2
}
